{
  "nbformat": 4,
  "nbformat_minor": 0,
  "metadata": {
    "colab": {
      "provenance": [],
      "mount_file_id": "12VAgkS5Gb30nUiWsou6wQkqnoxnL4IIR",
      "authorship_tag": "ABX9TyOxFctt0SDqzVDkV8L6o+fW",
      "include_colab_link": true
    },
    "kernelspec": {
      "name": "python3",
      "display_name": "Python 3"
    },
    "language_info": {
      "name": "python"
    }
  },
  "cells": [
    {
      "cell_type": "markdown",
      "metadata": {
        "id": "view-in-github",
        "colab_type": "text"
      },
      "source": [
        "<a href=\"https://colab.research.google.com/github/BRSHD/spam-classifier/blob/main/spam_classifier.ipynb\" target=\"_parent\"><img src=\"https://colab.research.google.com/assets/colab-badge.svg\" alt=\"Open In Colab\"/></a>"
      ]
    },
    {
      "cell_type": "code",
      "execution_count": 19,
      "metadata": {
        "colab": {
          "base_uri": "https://localhost:8080/"
        },
        "id": "Y53bcEpJaMzk",
        "outputId": "fac7a3eb-397a-4e04-ede8-06a6805dee0d"
      },
      "outputs": [
        {
          "output_type": "stream",
          "name": "stdout",
          "text": [
            "Всего сообщений: 5,572\n",
            "Не спам (ham): 4,825 (86.6%)\n",
            "Спам (spam): 747 (13.4%)\n"
          ]
        }
      ],
      "source": [
        "import pandas as pd\n",
        "import matplotlib.pyplot as plt\n",
        "import seaborn as sns\n",
        "import re\n",
        "\n",
        "# Загрузка данных\n",
        "df = pd.read_csv(\"/content/drive/MyDrive/Colab Notebooks/spamclassifier/spamdataset.csv\", encoding=\"latin-1\")\n",
        "df = df[[\"v1\", \"v2\"]]\n",
        "df.columns = [\"label\", \"text\"]\n",
        "\n",
        "print(f\"Всего сообщений: {len(df):,}\")\n",
        "print(f\"Не спам (ham): {sum(df['label'] == 'ham'):,} ({sum(df['label'] == 'ham')/len(df)*100:.1f}%)\")\n",
        "print(f\"Спам (spam): {sum(df['label'] == 'spam'):,} ({sum(df['label'] == 'spam')/len(df)*100:.1f}%)\")"
      ]
    },
    {
      "cell_type": "code",
      "source": [
        "!git checkout -b main"
      ],
      "metadata": {
        "colab": {
          "base_uri": "https://localhost:8080/"
        },
        "id": "OZoT7HGGtV99",
        "outputId": "5d69ca95-4ae8-4f61-f088-24ab47c41148"
      },
      "execution_count": 30,
      "outputs": [
        {
          "output_type": "stream",
          "name": "stdout",
          "text": [
            "fatal: A branch named 'main' already exists.\n"
          ]
        }
      ]
    }
  ]
}